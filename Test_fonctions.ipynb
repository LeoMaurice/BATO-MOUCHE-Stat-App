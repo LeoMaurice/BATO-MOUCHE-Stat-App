{
 "cells": [
  {
   "cell_type": "code",
   "execution_count": 4,
   "id": "6c955fbb-b5ac-4447-97dd-7f6ec830855b",
   "metadata": {},
   "outputs": [],
   "source": [
    "#!pip install contextily\n",
    "#!pip install osmnx"
   ]
  },
  {
   "cell_type": "code",
   "execution_count": 1,
   "id": "b46d55e2-2e9b-47b1-b60a-496f0e0b6fa7",
   "metadata": {},
   "outputs": [],
   "source": [
    "from fonctions import *"
   ]
  },
  {
   "cell_type": "code",
   "execution_count": 2,
   "id": "b0b0f8fc-e0a7-422f-be1b-8818032c6007",
   "metadata": {},
   "outputs": [
    {
     "name": "stderr",
     "output_type": "stream",
     "text": [
      "/home/onyxia/work/BATO-MOUCHE-Stat-App/fonctions.py:29: UserWarning: Geometry is in a geographic CRS. Results from 'centroid' are likely incorrect. Use 'GeoSeries.to_crs()' to re-project geometries to a projected CRS before this operation.\n",
      "\n",
      "  gdf_pois[\"center\"]=gdf_pois.centroid\n"
     ]
    },
    {
     "data": {
      "text/html": [
       "<div>\n",
       "<style scoped>\n",
       "    .dataframe tbody tr th:only-of-type {\n",
       "        vertical-align: middle;\n",
       "    }\n",
       "\n",
       "    .dataframe tbody tr th {\n",
       "        vertical-align: top;\n",
       "    }\n",
       "\n",
       "    .dataframe thead th {\n",
       "        text-align: right;\n",
       "    }\n",
       "</style>\n",
       "<table border=\"1\" class=\"dataframe\">\n",
       "  <thead>\n",
       "    <tr style=\"text-align: right;\">\n",
       "      <th></th>\n",
       "      <th></th>\n",
       "      <th>amenity</th>\n",
       "      <th>name</th>\n",
       "      <th>opening_hours</th>\n",
       "      <th>source</th>\n",
       "      <th>geometry</th>\n",
       "      <th>cuisine</th>\n",
       "      <th>website</th>\n",
       "      <th>bar</th>\n",
       "      <th>check_date</th>\n",
       "      <th>name:fr</th>\n",
       "      <th>...</th>\n",
       "      <th>payment:visa</th>\n",
       "      <th>access</th>\n",
       "      <th>nodes</th>\n",
       "      <th>building</th>\n",
       "      <th>building:levels</th>\n",
       "      <th>stroller</th>\n",
       "      <th>room</th>\n",
       "      <th>ways</th>\n",
       "      <th>type</th>\n",
       "      <th>center</th>\n",
       "    </tr>\n",
       "    <tr>\n",
       "      <th>element_type</th>\n",
       "      <th>osmid</th>\n",
       "      <th></th>\n",
       "      <th></th>\n",
       "      <th></th>\n",
       "      <th></th>\n",
       "      <th></th>\n",
       "      <th></th>\n",
       "      <th></th>\n",
       "      <th></th>\n",
       "      <th></th>\n",
       "      <th></th>\n",
       "      <th></th>\n",
       "      <th></th>\n",
       "      <th></th>\n",
       "      <th></th>\n",
       "      <th></th>\n",
       "      <th></th>\n",
       "      <th></th>\n",
       "      <th></th>\n",
       "      <th></th>\n",
       "      <th></th>\n",
       "      <th></th>\n",
       "    </tr>\n",
       "  </thead>\n",
       "  <tbody>\n",
       "    <tr>\n",
       "      <th rowspan=\"5\" valign=\"top\">node</th>\n",
       "      <th>251851390</th>\n",
       "      <td>restaurant</td>\n",
       "      <td>Le Royal Est</td>\n",
       "      <td>Mo-Sa 06:00-02:00, Su 07:00-02:00</td>\n",
       "      <td>survey 2017</td>\n",
       "      <td>POINT (2.35906 48.87553)</td>\n",
       "      <td>NaN</td>\n",
       "      <td>NaN</td>\n",
       "      <td>NaN</td>\n",
       "      <td>NaN</td>\n",
       "      <td>NaN</td>\n",
       "      <td>...</td>\n",
       "      <td>NaN</td>\n",
       "      <td>NaN</td>\n",
       "      <td>NaN</td>\n",
       "      <td>NaN</td>\n",
       "      <td>NaN</td>\n",
       "      <td>NaN</td>\n",
       "      <td>NaN</td>\n",
       "      <td>NaN</td>\n",
       "      <td>NaN</td>\n",
       "      <td>POINT (2.35906 48.87553)</td>\n",
       "    </tr>\n",
       "    <tr>\n",
       "      <th>251851391</th>\n",
       "      <td>restaurant</td>\n",
       "      <td>Bouillon Chartier</td>\n",
       "      <td>NaN</td>\n",
       "      <td>NaN</td>\n",
       "      <td>POINT (2.35872 48.87593)</td>\n",
       "      <td>french;brasserie</td>\n",
       "      <td>https://www.bouillon-chartier.com/gare-de-lest/</td>\n",
       "      <td>NaN</td>\n",
       "      <td>NaN</td>\n",
       "      <td>NaN</td>\n",
       "      <td>...</td>\n",
       "      <td>NaN</td>\n",
       "      <td>NaN</td>\n",
       "      <td>NaN</td>\n",
       "      <td>NaN</td>\n",
       "      <td>NaN</td>\n",
       "      <td>NaN</td>\n",
       "      <td>NaN</td>\n",
       "      <td>NaN</td>\n",
       "      <td>NaN</td>\n",
       "      <td>POINT (2.35872 48.87593)</td>\n",
       "    </tr>\n",
       "    <tr>\n",
       "      <th>294039723</th>\n",
       "      <td>cafe</td>\n",
       "      <td>Café des Dames</td>\n",
       "      <td>NaN</td>\n",
       "      <td>NaN</td>\n",
       "      <td>POINT (2.37102 48.87818)</td>\n",
       "      <td>NaN</td>\n",
       "      <td>NaN</td>\n",
       "      <td>yes</td>\n",
       "      <td>2022-10-19</td>\n",
       "      <td>Café des Dames</td>\n",
       "      <td>...</td>\n",
       "      <td>NaN</td>\n",
       "      <td>NaN</td>\n",
       "      <td>NaN</td>\n",
       "      <td>NaN</td>\n",
       "      <td>NaN</td>\n",
       "      <td>NaN</td>\n",
       "      <td>NaN</td>\n",
       "      <td>NaN</td>\n",
       "      <td>NaN</td>\n",
       "      <td>POINT (2.37102 48.87818)</td>\n",
       "    </tr>\n",
       "    <tr>\n",
       "      <th>294162536</th>\n",
       "      <td>fast_food</td>\n",
       "      <td>McDonald's</td>\n",
       "      <td>Mo-Su 07:30-02:00</td>\n",
       "      <td>NaN</td>\n",
       "      <td>POINT (2.37056 48.88226)</td>\n",
       "      <td>burger</td>\n",
       "      <td>NaN</td>\n",
       "      <td>NaN</td>\n",
       "      <td>NaN</td>\n",
       "      <td>NaN</td>\n",
       "      <td>...</td>\n",
       "      <td>NaN</td>\n",
       "      <td>NaN</td>\n",
       "      <td>NaN</td>\n",
       "      <td>NaN</td>\n",
       "      <td>NaN</td>\n",
       "      <td>NaN</td>\n",
       "      <td>NaN</td>\n",
       "      <td>NaN</td>\n",
       "      <td>NaN</td>\n",
       "      <td>POINT (2.37056 48.88226)</td>\n",
       "    </tr>\n",
       "    <tr>\n",
       "      <th>304964997</th>\n",
       "      <td>restaurant</td>\n",
       "      <td>La P'tite Louise</td>\n",
       "      <td>NaN</td>\n",
       "      <td>NaN</td>\n",
       "      <td>POINT (2.35709 48.87189)</td>\n",
       "      <td>NaN</td>\n",
       "      <td>NaN</td>\n",
       "      <td>NaN</td>\n",
       "      <td>2022-09-01</td>\n",
       "      <td>NaN</td>\n",
       "      <td>...</td>\n",
       "      <td>NaN</td>\n",
       "      <td>NaN</td>\n",
       "      <td>NaN</td>\n",
       "      <td>NaN</td>\n",
       "      <td>NaN</td>\n",
       "      <td>NaN</td>\n",
       "      <td>NaN</td>\n",
       "      <td>NaN</td>\n",
       "      <td>NaN</td>\n",
       "      <td>POINT (2.35709 48.87189)</td>\n",
       "    </tr>\n",
       "  </tbody>\n",
       "</table>\n",
       "<p>5 rows × 149 columns</p>\n",
       "</div>"
      ],
      "text/plain": [
       "                           amenity               name  \\\n",
       "element_type osmid                                      \n",
       "node         251851390  restaurant       Le Royal Est   \n",
       "             251851391  restaurant  Bouillon Chartier   \n",
       "             294039723        cafe     Café des Dames   \n",
       "             294162536   fast_food         McDonald's   \n",
       "             304964997  restaurant   La P'tite Louise   \n",
       "\n",
       "                                            opening_hours       source  \\\n",
       "element_type osmid                                                       \n",
       "node         251851390  Mo-Sa 06:00-02:00, Su 07:00-02:00  survey 2017   \n",
       "             251851391                                NaN          NaN   \n",
       "             294039723                                NaN          NaN   \n",
       "             294162536                  Mo-Su 07:30-02:00          NaN   \n",
       "             304964997                                NaN          NaN   \n",
       "\n",
       "                                        geometry           cuisine  \\\n",
       "element_type osmid                                                   \n",
       "node         251851390  POINT (2.35906 48.87553)               NaN   \n",
       "             251851391  POINT (2.35872 48.87593)  french;brasserie   \n",
       "             294039723  POINT (2.37102 48.87818)               NaN   \n",
       "             294162536  POINT (2.37056 48.88226)            burger   \n",
       "             304964997  POINT (2.35709 48.87189)               NaN   \n",
       "\n",
       "                                                                website  bar  \\\n",
       "element_type osmid                                                             \n",
       "node         251851390                                              NaN  NaN   \n",
       "             251851391  https://www.bouillon-chartier.com/gare-de-lest/  NaN   \n",
       "             294039723                                              NaN  yes   \n",
       "             294162536                                              NaN  NaN   \n",
       "             304964997                                              NaN  NaN   \n",
       "\n",
       "                        check_date         name:fr  ... payment:visa access  \\\n",
       "element_type osmid                                  ...                       \n",
       "node         251851390         NaN             NaN  ...          NaN    NaN   \n",
       "             251851391         NaN             NaN  ...          NaN    NaN   \n",
       "             294039723  2022-10-19  Café des Dames  ...          NaN    NaN   \n",
       "             294162536         NaN             NaN  ...          NaN    NaN   \n",
       "             304964997  2022-09-01             NaN  ...          NaN    NaN   \n",
       "\n",
       "                       nodes building building:levels stroller room ways type  \\\n",
       "element_type osmid                                                              \n",
       "node         251851390   NaN      NaN             NaN      NaN  NaN  NaN  NaN   \n",
       "             251851391   NaN      NaN             NaN      NaN  NaN  NaN  NaN   \n",
       "             294039723   NaN      NaN             NaN      NaN  NaN  NaN  NaN   \n",
       "             294162536   NaN      NaN             NaN      NaN  NaN  NaN  NaN   \n",
       "             304964997   NaN      NaN             NaN      NaN  NaN  NaN  NaN   \n",
       "\n",
       "                                          center  \n",
       "element_type osmid                                \n",
       "node         251851390  POINT (2.35906 48.87553)  \n",
       "             251851391  POINT (2.35872 48.87593)  \n",
       "             294039723  POINT (2.37102 48.87818)  \n",
       "             294162536  POINT (2.37056 48.88226)  \n",
       "             304964997  POINT (2.35709 48.87189)  \n",
       "\n",
       "[5 rows x 149 columns]"
      ]
     },
     "execution_count": 2,
     "metadata": {},
     "output_type": "execute_result"
    }
   ],
   "source": [
    "get_place(\"Gare du Nord\").head()"
   ]
  },
  {
   "cell_type": "code",
   "execution_count": 3,
   "id": "fa15bdfb-665c-4e76-a26c-05f92503519a",
   "metadata": {},
   "outputs": [
    {
     "name": "stderr",
     "output_type": "stream",
     "text": [
      "/home/onyxia/work/BATO-MOUCHE-Stat-App/fonctions.py:29: UserWarning: Geometry is in a geographic CRS. Results from 'centroid' are likely incorrect. Use 'GeoSeries.to_crs()' to re-project geometries to a projected CRS before this operation.\n",
      "\n",
      "  gdf_pois[\"center\"]=gdf_pois.centroid\n"
     ]
    },
    {
     "data": {
      "text/html": [
       "<div>\n",
       "<style scoped>\n",
       "    .dataframe tbody tr th:only-of-type {\n",
       "        vertical-align: middle;\n",
       "    }\n",
       "\n",
       "    .dataframe tbody tr th {\n",
       "        vertical-align: top;\n",
       "    }\n",
       "\n",
       "    .dataframe thead th {\n",
       "        text-align: right;\n",
       "    }\n",
       "</style>\n",
       "<table border=\"1\" class=\"dataframe\">\n",
       "  <thead>\n",
       "    <tr style=\"text-align: right;\">\n",
       "      <th></th>\n",
       "      <th>amenity</th>\n",
       "      <th>how many</th>\n",
       "    </tr>\n",
       "  </thead>\n",
       "  <tbody>\n",
       "    <tr>\n",
       "      <th>0</th>\n",
       "      <td>restaurant</td>\n",
       "      <td>539.0</td>\n",
       "    </tr>\n",
       "    <tr>\n",
       "      <th>1</th>\n",
       "      <td>cafe</td>\n",
       "      <td>133.0</td>\n",
       "    </tr>\n",
       "    <tr>\n",
       "      <th>2</th>\n",
       "      <td>bar</td>\n",
       "      <td>83.0</td>\n",
       "    </tr>\n",
       "    <tr>\n",
       "      <th>3</th>\n",
       "      <td>ice_cream</td>\n",
       "      <td>2.0</td>\n",
       "    </tr>\n",
       "    <tr>\n",
       "      <th>4</th>\n",
       "      <td>fast_food</td>\n",
       "      <td>181.0</td>\n",
       "    </tr>\n",
       "    <tr>\n",
       "      <th>5</th>\n",
       "      <td>pub</td>\n",
       "      <td>29.0</td>\n",
       "    </tr>\n",
       "    <tr>\n",
       "      <th>6</th>\n",
       "      <td>food_court</td>\n",
       "      <td>0.0</td>\n",
       "    </tr>\n",
       "    <tr>\n",
       "      <th>7</th>\n",
       "      <td>biergarten</td>\n",
       "      <td>0.0</td>\n",
       "    </tr>\n",
       "    <tr>\n",
       "      <th>8</th>\n",
       "      <td>total</td>\n",
       "      <td>967.0</td>\n",
       "    </tr>\n",
       "  </tbody>\n",
       "</table>\n",
       "</div>"
      ],
      "text/plain": [
       "      amenity how many\n",
       "0  restaurant    539.0\n",
       "1        cafe    133.0\n",
       "2         bar     83.0\n",
       "3   ice_cream      2.0\n",
       "4   fast_food    181.0\n",
       "5         pub     29.0\n",
       "6  food_court      0.0\n",
       "7  biergarten      0.0\n",
       "8       total    967.0"
      ]
     },
     "execution_count": 3,
     "metadata": {},
     "output_type": "execute_result"
    }
   ],
   "source": [
    "count_amenities(\"Gare du Nord\")"
   ]
  },
  {
   "cell_type": "code",
   "execution_count": 4,
   "id": "07f87b88-1c86-47ed-914b-d6563bde2dce",
   "metadata": {},
   "outputs": [
    {
     "data": {
      "application/vnd.jupyter.widget-view+json": {
       "model_id": "1e03654c2ecb430db7ba7492958eb81d",
       "version_major": 2,
       "version_minor": 0
      },
      "text/plain": [
       "  0%|          | 0/10 [00:00<?, ?it/s]"
      ]
     },
     "metadata": {},
     "output_type": "display_data"
    },
    {
     "name": "stdout",
     "output_type": "stream",
     "text": [
      "Gare du Nord\n"
     ]
    },
    {
     "name": "stderr",
     "output_type": "stream",
     "text": [
      "/home/onyxia/work/BATO-MOUCHE-Stat-App/fonctions.py:29: UserWarning: Geometry is in a geographic CRS. Results from 'centroid' are likely incorrect. Use 'GeoSeries.to_crs()' to re-project geometries to a projected CRS before this operation.\n",
      "\n",
      "  gdf_pois[\"center\"]=gdf_pois.centroid\n"
     ]
    },
    {
     "name": "stdout",
     "output_type": "stream",
     "text": [
      "      amenity how many\n",
      "0  restaurant    539.0\n",
      "1        cafe    133.0\n",
      "2         bar     83.0\n",
      "3   ice_cream      2.0\n",
      "4   fast_food    181.0\n",
      "5         pub     29.0\n",
      "6  food_court      0.0\n",
      "7  biergarten      0.0\n",
      "8       total    967.0\n",
      " \n",
      "Tour Eiffel\n"
     ]
    },
    {
     "name": "stderr",
     "output_type": "stream",
     "text": [
      "/home/onyxia/work/BATO-MOUCHE-Stat-App/fonctions.py:29: UserWarning: Geometry is in a geographic CRS. Results from 'centroid' are likely incorrect. Use 'GeoSeries.to_crs()' to re-project geometries to a projected CRS before this operation.\n",
      "\n",
      "  gdf_pois[\"center\"]=gdf_pois.centroid\n"
     ]
    },
    {
     "name": "stdout",
     "output_type": "stream",
     "text": [
      "      amenity how many\n",
      "0  restaurant    221.0\n",
      "1        cafe     58.0\n",
      "2         bar     10.0\n",
      "3   ice_cream      2.0\n",
      "4   fast_food     26.0\n",
      "5         pub      5.0\n",
      "6  food_court      1.0\n",
      "7  biergarten      0.0\n",
      "8       total    323.0\n",
      " \n",
      "Place de la Bastille\n"
     ]
    },
    {
     "name": "stderr",
     "output_type": "stream",
     "text": [
      "/home/onyxia/work/BATO-MOUCHE-Stat-App/fonctions.py:29: UserWarning: Geometry is in a geographic CRS. Results from 'centroid' are likely incorrect. Use 'GeoSeries.to_crs()' to re-project geometries to a projected CRS before this operation.\n",
      "\n",
      "  gdf_pois[\"center\"]=gdf_pois.centroid\n"
     ]
    },
    {
     "name": "stdout",
     "output_type": "stream",
     "text": [
      "      amenity how many\n",
      "0  restaurant    535.0\n",
      "1        cafe    151.0\n",
      "2         bar    135.0\n",
      "3   ice_cream     12.0\n",
      "4   fast_food    131.0\n",
      "5         pub     21.0\n",
      "6  food_court      0.0\n",
      "7  biergarten      0.0\n",
      "8       total    985.0\n",
      " \n",
      "Arc de triomphe\n"
     ]
    },
    {
     "name": "stderr",
     "output_type": "stream",
     "text": [
      "/home/onyxia/work/BATO-MOUCHE-Stat-App/fonctions.py:29: UserWarning: Geometry is in a geographic CRS. Results from 'centroid' are likely incorrect. Use 'GeoSeries.to_crs()' to re-project geometries to a projected CRS before this operation.\n",
      "\n",
      "  gdf_pois[\"center\"]=gdf_pois.centroid\n"
     ]
    },
    {
     "name": "stdout",
     "output_type": "stream",
     "text": [
      "      amenity how many\n",
      "0  restaurant    344.0\n",
      "1        cafe     80.0\n",
      "2         bar     18.0\n",
      "3   ice_cream      0.0\n",
      "4   fast_food     78.0\n",
      "5         pub     12.0\n",
      "6  food_court      0.0\n",
      "7  biergarten      0.0\n",
      "8       total    532.0\n",
      " \n",
      "Parc des buttes Chaumont\n"
     ]
    },
    {
     "name": "stderr",
     "output_type": "stream",
     "text": [
      "/home/onyxia/work/BATO-MOUCHE-Stat-App/fonctions.py:29: UserWarning: Geometry is in a geographic CRS. Results from 'centroid' are likely incorrect. Use 'GeoSeries.to_crs()' to re-project geometries to a projected CRS before this operation.\n",
      "\n",
      "  gdf_pois[\"center\"]=gdf_pois.centroid\n"
     ]
    },
    {
     "name": "stdout",
     "output_type": "stream",
     "text": [
      "      amenity how many\n",
      "0  restaurant    391.0\n",
      "1        cafe    145.0\n",
      "2         bar     82.0\n",
      "3   ice_cream      0.0\n",
      "4   fast_food    196.0\n",
      "5         pub     25.0\n",
      "6  food_court      0.0\n",
      "7  biergarten      0.0\n",
      "8       total    839.0\n",
      " \n",
      "Palais de la porte dorée\n"
     ]
    },
    {
     "name": "stderr",
     "output_type": "stream",
     "text": [
      "/home/onyxia/work/BATO-MOUCHE-Stat-App/fonctions.py:29: UserWarning: Geometry is in a geographic CRS. Results from 'centroid' are likely incorrect. Use 'GeoSeries.to_crs()' to re-project geometries to a projected CRS before this operation.\n",
      "\n",
      "  gdf_pois[\"center\"]=gdf_pois.centroid\n"
     ]
    },
    {
     "name": "stdout",
     "output_type": "stream",
     "text": [
      "      amenity how many\n",
      "0  restaurant     58.0\n",
      "1        cafe     14.0\n",
      "2         bar     14.0\n",
      "3   ice_cream      0.0\n",
      "4   fast_food     31.0\n",
      "5         pub      1.0\n",
      "6  food_court      0.0\n",
      "7  biergarten      0.0\n",
      "8       total    118.0\n",
      " \n",
      "Westfield Forum des Halles\n"
     ]
    },
    {
     "name": "stderr",
     "output_type": "stream",
     "text": [
      "/home/onyxia/work/BATO-MOUCHE-Stat-App/fonctions.py:29: UserWarning: Geometry is in a geographic CRS. Results from 'centroid' are likely incorrect. Use 'GeoSeries.to_crs()' to re-project geometries to a projected CRS before this operation.\n",
      "\n",
      "  gdf_pois[\"center\"]=gdf_pois.centroid\n"
     ]
    },
    {
     "name": "stdout",
     "output_type": "stream",
     "text": [
      "      amenity how many\n",
      "0  restaurant   1030.0\n",
      "1        cafe    314.0\n",
      "2         bar    201.0\n",
      "3   ice_cream     23.0\n",
      "4   fast_food    258.0\n",
      "5         pub     42.0\n",
      "6  food_court      1.0\n",
      "7  biergarten      0.0\n",
      "8       total   1869.0\n",
      " \n",
      "Porte de la Chapelle\n"
     ]
    },
    {
     "name": "stderr",
     "output_type": "stream",
     "text": [
      "/home/onyxia/work/BATO-MOUCHE-Stat-App/fonctions.py:29: UserWarning: Geometry is in a geographic CRS. Results from 'centroid' are likely incorrect. Use 'GeoSeries.to_crs()' to re-project geometries to a projected CRS before this operation.\n",
      "\n",
      "  gdf_pois[\"center\"]=gdf_pois.centroid\n"
     ]
    },
    {
     "name": "stdout",
     "output_type": "stream",
     "text": [
      "      amenity how many\n",
      "0  restaurant     63.0\n",
      "1        cafe     16.0\n",
      "2         bar     16.0\n",
      "3   ice_cream      0.0\n",
      "4   fast_food     37.0\n",
      "5         pub     28.0\n",
      "6  food_court      0.0\n",
      "7  biergarten      0.0\n",
      "8       total    160.0\n",
      " \n",
      "Opéra Garnier\n"
     ]
    },
    {
     "name": "stderr",
     "output_type": "stream",
     "text": [
      "/home/onyxia/work/BATO-MOUCHE-Stat-App/fonctions.py:29: UserWarning: Geometry is in a geographic CRS. Results from 'centroid' are likely incorrect. Use 'GeoSeries.to_crs()' to re-project geometries to a projected CRS before this operation.\n",
      "\n",
      "  gdf_pois[\"center\"]=gdf_pois.centroid\n"
     ]
    },
    {
     "name": "stdout",
     "output_type": "stream",
     "text": [
      "      amenity how many\n",
      "0  restaurant    844.0\n",
      "1        cafe    207.0\n",
      "2         bar     86.0\n",
      "3   ice_cream      7.0\n",
      "4   fast_food    218.0\n",
      "5         pub     38.0\n",
      "6  food_court      2.0\n",
      "7  biergarten      0.0\n",
      "8       total   1402.0\n",
      " \n",
      "Sacré Coeur\n",
      "      amenity how many\n",
      "0  restaurant    531.0\n",
      "1        cafe    126.0\n",
      "2         bar    155.0\n",
      "3   ice_cream      9.0\n",
      "4   fast_food    111.0\n",
      "5         pub     28.0\n",
      "6  food_court      0.0\n",
      "7  biergarten      0.0\n",
      "8       total    960.0\n",
      " \n"
     ]
    },
    {
     "name": "stderr",
     "output_type": "stream",
     "text": [
      "/home/onyxia/work/BATO-MOUCHE-Stat-App/fonctions.py:29: UserWarning: Geometry is in a geographic CRS. Results from 'centroid' are likely incorrect. Use 'GeoSeries.to_crs()' to re-project geometries to a projected CRS before this operation.\n",
      "\n",
      "  gdf_pois[\"center\"]=gdf_pois.centroid\n"
     ]
    }
   ],
   "source": [
    "places = [\"Gare du Nord\", \"Tour Eiffel\", \"Place de la Bastille\", \"Arc de triomphe\", \"Parc des buttes Chaumont\", \"Palais de la porte dorée\", \"Westfield Forum des Halles\", \"Porte de la Chapelle\", \"Opéra Garnier\", \"Sacré Coeur\"]\n",
    "\n",
    "for i in tqdm(range(len(places))) : \n",
    "    print(places[i])\n",
    "    print(count_amenities(places[i]))\n",
    "    print(' ')"
   ]
  }
 ],
 "metadata": {
  "kernelspec": {
   "display_name": "Python 3 (ipykernel)",
   "language": "python",
   "name": "python3"
  },
  "language_info": {
   "codemirror_mode": {
    "name": "ipython",
    "version": 3
   },
   "file_extension": ".py",
   "mimetype": "text/x-python",
   "name": "python",
   "nbconvert_exporter": "python",
   "pygments_lexer": "ipython3",
   "version": "3.10.4"
  }
 },
 "nbformat": 4,
 "nbformat_minor": 5
}
