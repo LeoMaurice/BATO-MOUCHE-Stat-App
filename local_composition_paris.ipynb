{
 "cells": [
  {
   "cell_type": "code",
   "execution_count": 1,
   "metadata": {},
   "outputs": [
    {
     "name": "stdout",
     "output_type": "stream",
     "text": [
      "--- Import helpers ---\n"
     ]
    }
   ],
   "source": [
    "import os\n",
    "os.environ['USE_PYGEOS'] = '0'\n",
    "import helpers as hs\n",
    "from importlib import reload"
   ]
  },
  {
   "cell_type": "code",
   "execution_count": 18,
   "metadata": {},
   "outputs": [
    {
     "name": "stdout",
     "output_type": "stream",
     "text": [
      "--- Import helpers ---\n"
     ]
    },
    {
     "data": {
      "text/plain": [
       "<module 'helpers' from 'c:\\\\Users\\\\leopo\\\\OneDrive - GENES\\\\StatApp\\\\BATO-MOUCHE-Stat-App\\\\helpers\\\\__init__.py'>"
      ]
     },
     "execution_count": 18,
     "metadata": {},
     "output_type": "execute_result"
    }
   ],
   "source": [
    "reload(hs)"
   ]
  },
  {
   "attachments": {},
   "cell_type": "markdown",
   "metadata": {},
   "source": [
    "# Données descriptives pour  des quartiers choisis"
   ]
  },
  {
   "attachments": {},
   "cell_type": "markdown",
   "metadata": {},
   "source": [
    "# Création de la base  de données"
   ]
  },
  {
   "cell_type": "code",
   "execution_count": 19,
   "metadata": {},
   "outputs": [
    {
     "name": "stdout",
     "output_type": "stream",
     "text": [
      "{'amenity': ['restaurant', 'cafe', 'bar', 'ice_cream', 'fast_food', 'pub', 'food_court', 'biergarten', 'library', 'toy_library', 'music_school', 'arts_centre', 'cinema', 'conference_centre', 'events_venue', 'planetarium', 'public_bookcase', 'studio', 'theatre', 'college', 'driving_school', 'kindergarten', 'language_school', 'training', 'school', 'university']}\n"
     ]
    },
    {
     "name": "stderr",
     "output_type": "stream",
     "text": [
      "c:\\Users\\leopo\\OneDrive - GENES\\StatApp\\BATO-MOUCHE-Stat-App\\helpers\\scrapping.py:72: UserWarning: Geometry is in a geographic CRS. Results from 'centroid' are likely incorrect. Use 'GeoSeries.to_crs()' to re-project geometries to a projected CRS before this operation.\n",
      "\n",
      "  gdf_pois[\"center\"]=gdf_pois.to_crs(\"WGS-84\").centroid\n"
     ]
    }
   ],
   "source": [
    "pgdf = hs.get_place_POI_category(\"Paris, Ile-de-France, France\", categories=hs.categories_tags)\n",
    "# je comprend pas le warning  : j'ai projeté en WGS-84."
   ]
  },
  {
   "cell_type": "code",
   "execution_count": 32,
   "metadata": {},
   "outputs": [],
   "source": [
    "OMS_var = [\"name\",\"amenity\",\"shop\"]"
   ]
  },
  {
   "attachments": {},
   "cell_type": "markdown",
   "metadata": {},
   "source": [
    "## Création des données aggrégées sur la grille INSPIRE 200X200m\n",
    "On part des données OSM cad une liste de points avec coordonnées et infos et on veut obtenir une liste des carrés INSPIRE avec le total des catégories par carré."
   ]
  },
  {
   "attachments": {},
   "cell_type": "markdown",
   "metadata": {},
   "source": [
    "### Définitions des catégories d'analyse"
   ]
  },
  {
   "attachments": {},
   "cell_type": "markdown",
   "metadata": {},
   "source": [
    "## Calcul des indices d'accessibilité"
   ]
  },
  {
   "attachments": {},
   "cell_type": "markdown",
   "metadata": {},
   "source": [
    "# Analyses"
   ]
  },
  {
   "attachments": {},
   "cell_type": "markdown",
   "metadata": {},
   "source": [
    "## Régression"
   ]
  },
  {
   "attachments": {},
   "cell_type": "markdown",
   "metadata": {},
   "source": [
    "## Clusterisation"
   ]
  }
 ],
 "metadata": {
  "kernelspec": {
   "display_name": "batomouche",
   "language": "python",
   "name": "python3"
  },
  "language_info": {
   "codemirror_mode": {
    "name": "ipython",
    "version": 3
   },
   "file_extension": ".py",
   "mimetype": "text/x-python",
   "name": "python",
   "nbconvert_exporter": "python",
   "pygments_lexer": "ipython3",
   "version": "3.9.0"
  },
  "orig_nbformat": 4,
  "vscode": {
   "interpreter": {
    "hash": "8ad640153caf92a6856e8632eb56f07cd8dcf4feacca0e767cde56cc1703ecd7"
   }
  }
 },
 "nbformat": 4,
 "nbformat_minor": 2
}
