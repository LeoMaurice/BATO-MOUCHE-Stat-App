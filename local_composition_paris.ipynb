{
 "cells": [
  {
   "cell_type": "code",
   "execution_count": 1,
   "metadata": {},
   "outputs": [
    {
     "name": "stdout",
     "output_type": "stream",
     "text": [
      "--- Import helpers ---\n"
     ]
    }
   ],
   "source": [
    "import os\n",
    "os.environ['USE_PYGEOS'] = '0'\n",
    "import helpers as hs\n",
    "from importlib import reload"
   ]
  },
  {
   "cell_type": "code",
   "execution_count": 25,
   "metadata": {},
   "outputs": [
    {
     "name": "stdout",
     "output_type": "stream",
     "text": [
      "--- Import helpers ---\n"
     ]
    },
    {
     "data": {
      "text/plain": [
       "<module 'helpers' from 'c:\\\\Users\\\\leopo\\\\OneDrive - GENES\\\\StatApp\\\\BATO-MOUCHE-Stat-App\\\\helpers\\\\__init__.py'>"
      ]
     },
     "execution_count": 25,
     "metadata": {},
     "output_type": "execute_result"
    }
   ],
   "source": [
    "reload(hs)"
   ]
  },
  {
   "attachments": {},
   "cell_type": "markdown",
   "metadata": {},
   "source": [
    "# Données descriptives pour  des quartiers choisis"
   ]
  },
  {
   "attachments": {},
   "cell_type": "markdown",
   "metadata": {},
   "source": [
    "# Création de la base  de données"
   ]
  },
  {
   "cell_type": "code",
   "execution_count": 26,
   "metadata": {},
   "outputs": [
    {
     "name": "stderr",
     "output_type": "stream",
     "text": [
      "c:\\Users\\leopo\\OneDrive - GENES\\StatApp\\BATO-MOUCHE-Stat-App\\helpers\\scrapping.py:188: UserWarning: Geometry is in a geographic CRS. Results from 'centroid' are likely incorrect. Use 'GeoSeries.to_crs()' to re-project geometries to a projected CRS before this operation.\n",
      "\n",
      "  gdf_pois[\"center\"]=gdf_pois.centroid\n"
     ]
    }
   ],
   "source": [
    "pgdf = hs.get_place_POI(\"Paris\")\n",
    "# je comprend pas le warning  : j'ai projeté en WGS-84."
   ]
  },
  {
   "cell_type": "code",
   "execution_count": 27,
   "metadata": {},
   "outputs": [
    {
     "data": {
      "text/html": [
       "<div>\n",
       "<style scoped>\n",
       "    .dataframe tbody tr th:only-of-type {\n",
       "        vertical-align: middle;\n",
       "    }\n",
       "\n",
       "    .dataframe tbody tr th {\n",
       "        vertical-align: top;\n",
       "    }\n",
       "\n",
       "    .dataframe thead th {\n",
       "        text-align: right;\n",
       "    }\n",
       "</style>\n",
       "<table border=\"1\" class=\"dataframe\">\n",
       "  <thead>\n",
       "    <tr style=\"text-align: right;\">\n",
       "      <th></th>\n",
       "      <th></th>\n",
       "      <th>name</th>\n",
       "      <th>center</th>\n",
       "      <th>geometry</th>\n",
       "      <th>restaurant</th>\n",
       "      <th>culture and art</th>\n",
       "      <th>education</th>\n",
       "      <th>food_shops</th>\n",
       "      <th>fashion_beauty</th>\n",
       "      <th>supply_shops</th>\n",
       "    </tr>\n",
       "    <tr>\n",
       "      <th>element_type</th>\n",
       "      <th>osmid</th>\n",
       "      <th></th>\n",
       "      <th></th>\n",
       "      <th></th>\n",
       "      <th></th>\n",
       "      <th></th>\n",
       "      <th></th>\n",
       "      <th></th>\n",
       "      <th></th>\n",
       "      <th></th>\n",
       "    </tr>\n",
       "  </thead>\n",
       "  <tbody>\n",
       "    <tr>\n",
       "      <th rowspan=\"5\" valign=\"top\">node</th>\n",
       "      <th>25209909</th>\n",
       "      <td>Relais Saint-Cloud Dassault</td>\n",
       "      <td>POINT (2.22249 48.85498)</td>\n",
       "      <td>POINT (2.22249 48.85498)</td>\n",
       "      <td>0</td>\n",
       "      <td>0</td>\n",
       "      <td>0</td>\n",
       "      <td>1</td>\n",
       "      <td>0</td>\n",
       "      <td>1</td>\n",
       "    </tr>\n",
       "    <tr>\n",
       "      <th>25213384</th>\n",
       "      <td>Relais Total Du Pont Aval</td>\n",
       "      <td>POINT (2.26615 48.83468)</td>\n",
       "      <td>POINT (2.26615 48.83468)</td>\n",
       "      <td>0</td>\n",
       "      <td>0</td>\n",
       "      <td>0</td>\n",
       "      <td>1</td>\n",
       "      <td>0</td>\n",
       "      <td>1</td>\n",
       "    </tr>\n",
       "    <tr>\n",
       "      <th>27091941</th>\n",
       "      <td>Le Capitole</td>\n",
       "      <td>POINT (2.22871 48.87055)</td>\n",
       "      <td>POINT (2.22871 48.87055)</td>\n",
       "      <td>0</td>\n",
       "      <td>1</td>\n",
       "      <td>0</td>\n",
       "      <td>0</td>\n",
       "      <td>0</td>\n",
       "      <td>0</td>\n",
       "    </tr>\n",
       "    <tr>\n",
       "      <th>27415805</th>\n",
       "      <td>Edmond Rostand</td>\n",
       "      <td>POINT (2.30345 48.88834)</td>\n",
       "      <td>POINT (2.30345 48.88834)</td>\n",
       "      <td>0</td>\n",
       "      <td>1</td>\n",
       "      <td>0</td>\n",
       "      <td>0</td>\n",
       "      <td>0</td>\n",
       "      <td>0</td>\n",
       "    </tr>\n",
       "    <tr>\n",
       "      <th>158268042</th>\n",
       "      <td>NaN</td>\n",
       "      <td>POINT (2.31657 48.83144)</td>\n",
       "      <td>POINT (2.31657 48.83144)</td>\n",
       "      <td>0</td>\n",
       "      <td>0</td>\n",
       "      <td>1</td>\n",
       "      <td>0</td>\n",
       "      <td>0</td>\n",
       "      <td>0</td>\n",
       "    </tr>\n",
       "    <tr>\n",
       "      <th>...</th>\n",
       "      <th>...</th>\n",
       "      <td>...</td>\n",
       "      <td>...</td>\n",
       "      <td>...</td>\n",
       "      <td>...</td>\n",
       "      <td>...</td>\n",
       "      <td>...</td>\n",
       "      <td>...</td>\n",
       "      <td>...</td>\n",
       "      <td>...</td>\n",
       "    </tr>\n",
       "    <tr>\n",
       "      <th rowspan=\"5\" valign=\"top\">relation</th>\n",
       "      <th>14197725</th>\n",
       "      <td>Nespresso</td>\n",
       "      <td>POINT (2.37499 48.84486)</td>\n",
       "      <td>POLYGON ((2.37508 48.84479, 2.37506 48.84478, ...</td>\n",
       "      <td>0</td>\n",
       "      <td>0</td>\n",
       "      <td>0</td>\n",
       "      <td>1</td>\n",
       "      <td>0</td>\n",
       "      <td>0</td>\n",
       "    </tr>\n",
       "    <tr>\n",
       "      <th>14197726</th>\n",
       "      <td>Cluizel</td>\n",
       "      <td>POINT (2.37478 48.84498)</td>\n",
       "      <td>POLYGON ((2.37486 48.84497, 2.37482 48.84494, ...</td>\n",
       "      <td>0</td>\n",
       "      <td>0</td>\n",
       "      <td>0</td>\n",
       "      <td>1</td>\n",
       "      <td>0</td>\n",
       "      <td>0</td>\n",
       "    </tr>\n",
       "    <tr>\n",
       "      <th>14197727</th>\n",
       "      <td>Izipizi</td>\n",
       "      <td>POINT (2.37467 48.84503)</td>\n",
       "      <td>POLYGON ((2.37471 48.84500, 2.37470 48.84500, ...</td>\n",
       "      <td>0</td>\n",
       "      <td>0</td>\n",
       "      <td>0</td>\n",
       "      <td>0</td>\n",
       "      <td>0</td>\n",
       "      <td>1</td>\n",
       "    </tr>\n",
       "    <tr>\n",
       "      <th>14197729</th>\n",
       "      <td>Panier des Sens</td>\n",
       "      <td>POINT (2.37441 48.84518)</td>\n",
       "      <td>POLYGON ((2.37444 48.84514, 2.37445 48.84514, ...</td>\n",
       "      <td>0</td>\n",
       "      <td>0</td>\n",
       "      <td>0</td>\n",
       "      <td>0</td>\n",
       "      <td>1</td>\n",
       "      <td>0</td>\n",
       "    </tr>\n",
       "    <tr>\n",
       "      <th>14883881</th>\n",
       "      <td>NaN</td>\n",
       "      <td>POINT (2.30126 48.86488)</td>\n",
       "      <td>POLYGON ((2.30127 48.86490, 2.30128 48.86490, ...</td>\n",
       "      <td>0</td>\n",
       "      <td>0</td>\n",
       "      <td>0</td>\n",
       "      <td>0</td>\n",
       "      <td>0</td>\n",
       "      <td>1</td>\n",
       "    </tr>\n",
       "  </tbody>\n",
       "</table>\n",
       "<p>46183 rows × 9 columns</p>\n",
       "</div>"
      ],
      "text/plain": [
       "                                               name                    center  \\\n",
       "element_type osmid                                                              \n",
       "node         25209909   Relais Saint-Cloud Dassault  POINT (2.22249 48.85498)   \n",
       "             25213384     Relais Total Du Pont Aval  POINT (2.26615 48.83468)   \n",
       "             27091941                   Le Capitole  POINT (2.22871 48.87055)   \n",
       "             27415805                Edmond Rostand  POINT (2.30345 48.88834)   \n",
       "             158268042                          NaN  POINT (2.31657 48.83144)   \n",
       "...                                             ...                       ...   \n",
       "relation     14197725                     Nespresso  POINT (2.37499 48.84486)   \n",
       "             14197726                       Cluizel  POINT (2.37478 48.84498)   \n",
       "             14197727                       Izipizi  POINT (2.37467 48.84503)   \n",
       "             14197729               Panier des Sens  POINT (2.37441 48.84518)   \n",
       "             14883881                           NaN  POINT (2.30126 48.86488)   \n",
       "\n",
       "                                                                 geometry  \\\n",
       "element_type osmid                                                          \n",
       "node         25209909                            POINT (2.22249 48.85498)   \n",
       "             25213384                            POINT (2.26615 48.83468)   \n",
       "             27091941                            POINT (2.22871 48.87055)   \n",
       "             27415805                            POINT (2.30345 48.88834)   \n",
       "             158268042                           POINT (2.31657 48.83144)   \n",
       "...                                                                   ...   \n",
       "relation     14197725   POLYGON ((2.37508 48.84479, 2.37506 48.84478, ...   \n",
       "             14197726   POLYGON ((2.37486 48.84497, 2.37482 48.84494, ...   \n",
       "             14197727   POLYGON ((2.37471 48.84500, 2.37470 48.84500, ...   \n",
       "             14197729   POLYGON ((2.37444 48.84514, 2.37445 48.84514, ...   \n",
       "             14883881   POLYGON ((2.30127 48.86490, 2.30128 48.86490, ...   \n",
       "\n",
       "                        restaurant  culture and art  education  food_shops  \\\n",
       "element_type osmid                                                           \n",
       "node         25209909            0                0          0           1   \n",
       "             25213384            0                0          0           1   \n",
       "             27091941            0                1          0           0   \n",
       "             27415805            0                1          0           0   \n",
       "             158268042           0                0          1           0   \n",
       "...                            ...              ...        ...         ...   \n",
       "relation     14197725            0                0          0           1   \n",
       "             14197726            0                0          0           1   \n",
       "             14197727            0                0          0           0   \n",
       "             14197729            0                0          0           0   \n",
       "             14883881            0                0          0           0   \n",
       "\n",
       "                        fashion_beauty  supply_shops  \n",
       "element_type osmid                                    \n",
       "node         25209909                0             1  \n",
       "             25213384                0             1  \n",
       "             27091941                0             0  \n",
       "             27415805                0             0  \n",
       "             158268042               0             0  \n",
       "...                                ...           ...  \n",
       "relation     14197725                0             0  \n",
       "             14197726                0             0  \n",
       "             14197727                0             1  \n",
       "             14197729                1             0  \n",
       "             14883881                0             1  \n",
       "\n",
       "[46183 rows x 9 columns]"
      ]
     },
     "execution_count": 27,
     "metadata": {},
     "output_type": "execute_result"
    }
   ],
   "source": [
    "pgdf"
   ]
  },
  {
   "attachments": {},
   "cell_type": "markdown",
   "metadata": {},
   "source": [
    "## Création des données aggrégées sur la grille INSPIRE 200X200m\n",
    "On part des données OSM cad une liste de points avec coordonnées et infos et on veut obtenir une liste des carrés INSPIRE avec le total des catégories par carré."
   ]
  },
  {
   "attachments": {},
   "cell_type": "markdown",
   "metadata": {},
   "source": [
    "### Définitions des catégories d'analyse"
   ]
  },
  {
   "attachments": {},
   "cell_type": "markdown",
   "metadata": {},
   "source": [
    "## Calcul des indices d'accessibilité"
   ]
  },
  {
   "attachments": {},
   "cell_type": "markdown",
   "metadata": {},
   "source": [
    "# Analyses"
   ]
  },
  {
   "attachments": {},
   "cell_type": "markdown",
   "metadata": {},
   "source": [
    "## Régression"
   ]
  },
  {
   "attachments": {},
   "cell_type": "markdown",
   "metadata": {},
   "source": [
    "## Clusterisation"
   ]
  }
 ],
 "metadata": {
  "kernelspec": {
   "display_name": "batomouche",
   "language": "python",
   "name": "python3"
  },
  "language_info": {
   "codemirror_mode": {
    "name": "ipython",
    "version": 3
   },
   "file_extension": ".py",
   "mimetype": "text/x-python",
   "name": "python",
   "nbconvert_exporter": "python",
   "pygments_lexer": "ipython3",
   "version": "3.9.0"
  },
  "orig_nbformat": 4,
  "vscode": {
   "interpreter": {
    "hash": "8ad640153caf92a6856e8632eb56f07cd8dcf4feacca0e767cde56cc1703ecd7"
   }
  }
 },
 "nbformat": 4,
 "nbformat_minor": 2
}
